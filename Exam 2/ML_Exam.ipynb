{
  "nbformat": 4,
  "nbformat_minor": 0,
  "metadata": {
    "colab": {
      "name": "ML Exam.ipynb",
      "provenance": [],
      "collapsed_sections": []
    },
    "kernelspec": {
      "name": "python3",
      "display_name": "Python 3"
    }
  },
  "cells": [
    {
      "cell_type": "code",
      "metadata": {
        "id": "vhITU3L45Ppo",
        "colab_type": "code",
        "colab": {}
      },
      "source": [
        "from google.colab import drive\n",
        "drive.mount('/content/drive')"
      ],
      "execution_count": 0,
      "outputs": []
    },
    {
      "cell_type": "code",
      "metadata": {
        "id": "HvOeE6s98Qfw",
        "colab_type": "code",
        "colab": {}
      },
      "source": [
        "from google.colab import files\n",
        "from IPython.display import HTML, display\n",
        "\n",
        "import numpy as np\n",
        "import io\n",
        "import re\n",
        "from copy import deepcopy \n",
        "\n",
        "# REQUIRED\n",
        "testFileName = 'test_4.txt'\n",
        "trainFileName = 'train_4.txt'\n",
        "classAttributeIndex = 14\n",
        "attributesIgnore = [2, 4, 10, 11]\n",
        "\n",
        "# PARAMETERS\n",
        "dataSplitRatio = 0\n"
      ],
      "execution_count": 0,
      "outputs": []
    },
    {
      "cell_type": "code",
      "metadata": {
        "id": "yhGfIhHy9va3",
        "colab_type": "code",
        "colab": {}
      },
      "source": [
        "# Function to read a file\n",
        "def readFile( fileName ):\n",
        "  with open( fileName, 'r' ) as f:\n",
        "    lines = f.read().split( '\\n' )\n",
        "    return lines\n",
        "\n",
        "print(\"#### FILE DATA ####\")\n",
        "trainData = readFile( trainFileName )\n",
        "testData = readFile( testFileName )\n",
        "for line in testData:\n",
        "  print( line )"
      ],
      "execution_count": 0,
      "outputs": []
    },
    {
      "cell_type": "code",
      "metadata": {
        "id": "IeTyF4PhADWX",
        "colab_type": "code",
        "colab": {}
      },
      "source": [
        "# Converting the file data into a 2D array\n",
        "def tabulateData( data, delimiter = ' ', hasHeader = True ):\n",
        "  X = []\n",
        "  for line in data:\n",
        "    words = line.split(delimiter)\n",
        "    X.append(words)\n",
        "  return X\n",
        "\n",
        "print(\"#### TABULATED DATA ####\")\n",
        "trainTabulatedData = tabulateData( trainData )\n",
        "testTabulatedData = tabulateData( testData )\n",
        "display(HTML(\n",
        "   '<table><tr>{}</tr></table>'.format(\n",
        "       '</tr><tr>'.join(\n",
        "           '<td>{}</td>'.format('</td><td>'.join(str(_) for _ in row)) for row in testTabulatedData)\n",
        "       )\n",
        "))\n"
      ],
      "execution_count": 0,
      "outputs": []
    },
    {
      "cell_type": "code",
      "metadata": {
        "id": "fFZXTEc-AV2Y",
        "colab_type": "code",
        "colab": {}
      },
      "source": [
        "# Removing data points which consists of null values\n",
        "def preprocessData( tabulatedData, classAttributeIndex, train = True ):\n",
        "  X = []\n",
        "  Y_train = [ ]\n",
        "  requiredLength = len( tabulatedData[0] )\n",
        "  for dataPoint in tabulatedData:\n",
        "    if( len(dataPoint) < requiredLength ):\n",
        "      continue\n",
        "    # if \"none\" in dataPoint:\n",
        "    #   continue\n",
        "    X.append( dataPoint[ :requiredLength ] )\n",
        "  \n",
        "  X = np.asanyarray(X)\n",
        "  if(train is True):\n",
        "    Y_train = X[:, classAttributeIndex]\n",
        "    X = np.delete(X, classAttributeIndex, axis = 1)\n",
        "  return X, Y_train\n",
        "\n",
        "print(\"#### PREPROCESSED DATA ####\")\n",
        "X_train, Y_train = preprocessData( trainTabulatedData, classAttributeIndex = classAttributeIndex )\n",
        "X_test, Y_test = preprocessData( testTabulatedData, classAttributeIndex = classAttributeIndex, train = False )\n",
        "print(X_train[10,:])\n",
        "# print(Y_train)\n"
      ],
      "execution_count": 0,
      "outputs": []
    },
    {
      "cell_type": "code",
      "metadata": {
        "id": "XJyYGL9kfd5U",
        "colab_type": "code",
        "colab": {}
      },
      "source": [
        ""
      ],
      "execution_count": 0,
      "outputs": []
    },
    {
      "cell_type": "code",
      "metadata": {
        "id": "HNKmkp5mf5dt",
        "colab_type": "code",
        "colab": {}
      },
      "source": [
        "def categorical_distance(ptA, ptB):\n",
        "  diff = ( ptA == ptB )\n",
        "  return np.size(diff) - np.sum(diff)\n",
        "\n",
        "def euclidean_distance(ptA, ptB):\n",
        "  a = ptA.astype(np.float)\n",
        "  b = ptB.astype(np.float)\n",
        "  return (np.sum((a - b)**2)**0.5)\n",
        "\n",
        "def distance(ptA, ptB, numeric_attributes, categorical_attributes):\n",
        "  dist = 0\n",
        "  dist += euclidean_distance(ptA[numeric_attributes], ptB[numeric_attributes])\n",
        "  dist += categorical_distance(ptA[categorical_attributes], ptB[categorical_attributes])\n",
        "  return dist"
      ],
      "execution_count": 0,
      "outputs": []
    },
    {
      "cell_type": "code",
      "metadata": {
        "id": "gErfqa-tI6Nn",
        "colab_type": "code",
        "colab": {}
      },
      "source": [
        "def findAttributeTypes(X):\n",
        "  N, M = np.shape(X)\n",
        "  i = 0\n",
        "  dataSet = X[0,:]\n",
        "  while('?' in dataSet):\n",
        "    i += 1\n",
        "    dataSet = X[i, :]\n",
        "  categorical_attributes = []\n",
        "  numeric_attributes = []\n",
        "  array = dataSet\n",
        "\n",
        "  for i in range(len(array)):\n",
        "    regex_output = None\n",
        "    x = re.search('^[A-Za-z]+[-]*', array[i])\n",
        "    if x is not None:\n",
        "      categorical_attributes.append(i)\n",
        "      continue\n",
        "    x = re.search('^[0-9]+[.]*[0-9]+$', array[i])\n",
        "    if x is not None:\n",
        "      numeric_attributes.append(i)\n",
        "      continue\n",
        "    else:\n",
        "      categorical_attributes.append(i)\n",
        "\n",
        "  return numeric_attributes, categorical_attributes\n",
        "\n",
        "\n",
        "# Function to process Data that is removing the columns\n",
        "def processData( data, removeColumns ):\n",
        "  data = np.delete( data, removeColumns, axis = 1 )\n",
        "  numeric_attributes, categorical_attributes = findAttributeTypes( data )\n",
        "  return data, numeric_attributes, categorical_attributes\n",
        "\n",
        "X_train, numeric_attributes, categorical_attributes = processData( X_train, attributesIgnore )\n",
        "X_test, numeric_attributes2, categorical_attributes2 = processData( X_test, attributesIgnore )\n",
        "\n",
        "print(numeric_attributes)\n",
        "print(categorical_attributes)\n",
        "print(X_train[0,:])"
      ],
      "execution_count": 0,
      "outputs": []
    },
    {
      "cell_type": "code",
      "metadata": {
        "id": "Fq8fMgVViI20",
        "colab_type": "code",
        "colab": {}
      },
      "source": [
        "def getMissedDataPoint( data ):\n",
        "  N, M = np.shape(data)\n",
        "  for i in range(N): \n",
        "    point = data[i, :]\n",
        "    if '?' in point:\n",
        "      return i\n",
        "  return -1\n",
        "\n",
        "def getKNNeighbours(X_train, Y_train, testPoint, k, numeric_attributes, categorical_attributes):\n",
        "    dist = np.empty((1,3))\n",
        "\n",
        "    # Finding distance with all the training nodes and storing in dist matrix \n",
        "    N_train, M = np.shape(X_train)\n",
        "\n",
        "    for j in range( N_train ):\n",
        "      trainPoint = X_train[j, :]\n",
        "      if not '?' in trainPoint:\n",
        "        temp = np.array([[ j, distance( trainPoint, testPoint, numeric_attributes, categorical_attributes ), Y_train[j] ]])\n",
        "        dist = np.append( dist, temp, axis = 0 )\n",
        "    dist = np.delete(dist, 0, axis = 0)\n",
        "\n",
        "    # Sorting the distances\n",
        "    dist = dist[dist[:, 1].argsort()] \n",
        "\n",
        "    # Selecting top K elements as our neighbours\n",
        "    neighbours = dist[:k, :]\n",
        "\n",
        "    return neighbours\n",
        "\n",
        "def fillTrainSet( data, Y, numeric_attributes, categorical_attributes ):\n",
        "  N, M = np.shape( data )\n",
        "  \n",
        "  # i = getMissedDataPoint( data )\n",
        "  for i in range(10):\n",
        "    myPoint = data[i, :]\n",
        "    missingAttributesIndex = []\n",
        "    print(\"-------------------------------\")\n",
        "    print(\"Data point with missing value:\")\n",
        "    print(data[i, :])\n",
        "    for j in range( len(myPoint) ):\n",
        "      if '?' in myPoint[j]:\n",
        "        missingAttributesIndex.append(j)\n",
        "    copy_myPoint = deepcopy(myPoint)\n",
        "    copy_data = deepcopy(data)\n",
        "\n",
        "    copy_myPoint = np.delete(copy_myPoint, missingAttributesIndex )\n",
        "    copy_data = np.delete(copy_data, missingAttributesIndex, axis = 1)\n",
        "\n",
        "    numeric_attributes, categorical_attributes = findAttributeTypes( copy_data )\n",
        "    \n",
        "    myNeighbour = getKNNeighbours( copy_data[10:,:], Y, copy_myPoint, 1, numeric_attributes, categorical_attributes )\n",
        "\n",
        "    for j in range( len(myPoint) ):\n",
        "      if '?' in myPoint[j]:\n",
        "        # Adding 10 as we started with 10 training instances\n",
        "        data[i, j] = data[ int(myNeighbour[0][0]) + 10, j ]\n",
        "    print(\"My nearest equivalent:\")\n",
        "    print((data[int(myNeighbour[0][0])+10, :]) ) \n",
        "    print(\"My updated value:\")\n",
        "    print(data[i, :])\n",
        "  return data\n",
        "    \n",
        "\n",
        "X_train = fillTrainSet(X_train, Y_train, numeric_attributes, categorical_attributes )\n",
        "\n"
      ],
      "execution_count": 0,
      "outputs": []
    },
    {
      "cell_type": "code",
      "metadata": {
        "id": "nwgo5CyqhmXl",
        "colab_type": "code",
        "colab": {}
      },
      "source": [
        "numeric_attributes, categorical_attributes = findAttributeTypes(X_train[10:, :])\n",
        "\n",
        "def predict( neighbours ):\n",
        "  # Finding count class\n",
        "  countClass = dict()\n",
        "  for neighbourClass in neighbours[:, 2]:\n",
        "    if( neighbourClass in countClass ):\n",
        "      countClass[neighbourClass] += 1\n",
        "    else:\n",
        "      countClass[neighbourClass] = 1\n",
        "\n",
        "  # Finding prediction\n",
        "  maxCount = -1\n",
        "  predClass = None\n",
        "  for countClassKey in countClass:\n",
        "    if( maxCount < countClass[ countClassKey ] ):\n",
        "      maxCount = countClass[ countClassKey ]\n",
        "      predClass = countClassKey\n",
        "\n",
        "  return predClass\n",
        "\n",
        "N_test, M = np.shape(X_test)\n",
        "for i in range(N_test):\n",
        "  testPoint = X_test[i]\n",
        "  numeric_attributes, categorical_attributes = findAttributeTypes(X_train)\n",
        "  neighbours = getKNNeighbours(X_train, Y_train, testPoint, 3 , numeric_attributes, categorical_attributes)\n",
        "  print(testPoint)\n",
        "  print(\"Predicted Class: \" + str(predict(neighbours)))\n",
        "  print(\"-------------\")\n"
      ],
      "execution_count": 0,
      "outputs": []
    }
  ]
}